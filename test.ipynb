{
 "cells": [
  {
   "cell_type": "code",
   "execution_count": 1,
   "metadata": {},
   "outputs": [],
   "source": [
    "%load_ext autoreload\n",
    "%autoreload 2\n",
    "import src.assistants as assistants\n",
    "from openai import OpenAI\n",
    "\n",
    "import re"
   ]
  },
  {
   "cell_type": "code",
   "execution_count": 32,
   "metadata": {},
   "outputs": [],
   "source": [
    "extractor = assistants.Extractor()\n",
    "screenwriter = assistants.Screenwriter()\n",
    "analist = assistants.Analist()\n",
    "concluser = assistants.Concluser()\n",
    "compariser = assistants.Compariser()\n",
    "organizer = assistants.Organizer()"
   ]
  },
  {
   "cell_type": "code",
   "execution_count": null,
   "metadata": {},
   "outputs": [],
   "source": [
    "I was with collegues in the park. Amy said she is was prepared to the exam (she failed it). She and everyone else laughed but it didnt seemed funny"
   ]
  },
  {
   "cell_type": "code",
   "execution_count": 40,
   "metadata": {},
   "outputs": [],
   "source": [
    "x = [\"desc 1\", \"desc 2\", \"desc 3\"]"
   ]
  },
  {
   "cell_type": "code",
   "execution_count": 44,
   "metadata": {},
   "outputs": [
    {
     "data": {
      "text/plain": [
       "[(0, 'desc 1'), (1, 'desc 2'), (2, 'desc 3')]"
      ]
     },
     "execution_count": 44,
     "metadata": {},
     "output_type": "execute_result"
    }
   ],
   "source": [
    "list(enumerate(x))"
   ]
  },
  {
   "cell_type": "code",
   "execution_count": 42,
   "metadata": {},
   "outputs": [
    {
     "ename": "TypeError",
     "evalue": "sequence item 0: expected str instance, tuple found",
     "output_type": "error",
     "traceback": [
      "\u001b[0;31m---------------------------------------------------------------------------\u001b[0m",
      "\u001b[0;31mTypeError\u001b[0m                                 Traceback (most recent call last)",
      "Cell \u001b[0;32mIn[42], line 1\u001b[0m\n\u001b[0;32m----> 1\u001b[0m \u001b[38;5;124;43m\"\u001b[39;49m\u001b[38;5;124;43m, \u001b[39;49m\u001b[38;5;124;43m\"\u001b[39;49m\u001b[38;5;241;43m.\u001b[39;49m\u001b[43mjoin\u001b[49m\u001b[43m(\u001b[49m\u001b[38;5;28;43menumerate\u001b[39;49m\u001b[43m(\u001b[49m\u001b[43mx\u001b[49m\u001b[43m)\u001b[49m\u001b[43m)\u001b[49m\n",
      "\u001b[0;31mTypeError\u001b[0m: sequence item 0: expected str instance, tuple found"
     ]
    }
   ],
   "source": [
    "\", \".join([f\"Description {idx}: {description}\" for idx, description in enumerate(x)])"
   ]
  },
  {
   "cell_type": "code",
   "execution_count": 39,
   "metadata": {},
   "outputs": [
    {
     "data": {
      "text/plain": [
       "'Compariser'"
      ]
     },
     "execution_count": 39,
     "metadata": {},
     "output_type": "execute_result"
    }
   ],
   "source": [
    "organizer.ask_assistant(\"\"\"\n",
    "In this story, Emily's feelings and difficulties revolve around social dynamics and understanding humor. At first, when Sara jokes about receiving a rock as a birthday gift, Emily seems puzzled, indicated by her pause before laughing. This suggests that she might have initially taken Sara's joke seriously, possibly indicating a difficulty in discerning sarcasm or unusual humor.\n",
    "\n",
    "However, once Emily realizes it's a joke, she joins in the laughter and enjoys the moment with her friends. This transition from confusion to laughter indicates Emily's ability to adapt and understand humor in social situations, overcoming any initial difficulties she might have had in interpreting Sara's joke.\n",
    "\n",
    "Overall, Emily seems to value her friendship with Sara and Jake, as she engages in conversation with them and enjoys their company during lunch. Despite the momentary confusion, Emily demonstrates resilience and the ability to connect with her friends through humor and shared experiences.\"\"\")"
   ]
  },
  {
   "cell_type": "code",
   "execution_count": 36,
   "metadata": {},
   "outputs": [
    {
     "name": "stdout",
     "output_type": "stream",
     "text": [
      "new possession\n"
     ]
    }
   ],
   "source": [
    "story_description = extractor.ask_assistant(\"I was with collegues in the park. Amy said she is was prepared to the exam (she failed it). She and everyone else laughed but it didnt seemed funny\")\n",
    "print(story_description)"
   ]
  },
  {
   "cell_type": "code",
   "execution_count": 6,
   "metadata": {},
   "outputs": [
    {
     "name": "stdout",
     "output_type": "stream",
     "text": [
      "Emily\n",
      "Title: The Birthday Gift Mix-up\n",
      "\n",
      "Scene: At a friend's birthday party\n",
      "\n",
      "Characters: Emily, Sarah, and Jake\n",
      "\n",
      "---\n",
      "\n",
      "[The scene opens with Emily and Sarah standing in the living room, surrounded by other party guests. Emily holds a beautifully wrapped gift in her hands.]\n",
      "\n",
      "Emily: [handing the gift to Sarah] Happy Birthday, Sarah! I hope you like this. I spent a lot of time picking it out for you.\n",
      "\n",
      "Sarah: [unwrapping the gift with a big smile, her expression suddenly changes to confusion] Oh... um, thank you, Emily. It’s a... unique choice.\n",
      "\n",
      "[The gift is a book titled “The Complexities of Modern Art.”]\n",
      "\n",
      "Emily: [noticing Sarah’s confusion] Is something wrong? You do like it, don’t you?\n",
      "\n",
      "Sarah: Oh, it’s definitely thoughtful, Emily. I just expected something else as I mentioned last week about really needing a new cookbook.\n",
      "\n",
      "Jake: [chuckles and interjects] I think there might have been a mix-up, Emily. Sarah does love books, but she’s been on a cooking spree lately. Easy mistake!\n",
      "\n",
      "[Sarah looks at Jake, then back at Emily, trying to keep the atmosphere light.]\n",
      "\n",
      "Sarah: Really, it’s okay! Modern art is fascinating too. Maybe it will inspire my cooking presentations!\n",
      "\n",
      "Emily: [relieved and smiling] That could be a fun twist, combining art styles with food. I would love to see what you come up with, Sarah!\n",
      "\n",
      "Jake: [teasingly] Maybe we'll all end up trying cubist sandwiches or surrealist desserts at your next party!\n",
      "\n",
      "[Everyone laughs, the tension dissolves, and they continue enjoying the party.]\n",
      "\n",
      "---\n",
      "\n",
      "Emily, Sarah, and Jake demonstrate understanding and flexibility, turning an awkward situation into a lighthearted moment through clear communication and humor.\n",
      "\n",
      "\n"
     ]
    }
   ],
   "source": [
    "story, name = screenwriter.ask_assistant(story_description)\n",
    "print(name)\n",
    "print(story)"
   ]
  },
  {
   "cell_type": "code",
   "execution_count": 24,
   "metadata": {},
   "outputs": [
    {
     "data": {
      "text/plain": [
       "'Emily'"
      ]
     },
     "execution_count": 24,
     "metadata": {},
     "output_type": "execute_result"
    }
   ],
   "source": [
    "name"
   ]
  },
  {
   "cell_type": "code",
   "execution_count": 27,
   "metadata": {},
   "outputs": [
    {
     "data": {
      "text/plain": [
       "\"Title: The Birthday Gift Mix-up\\n\\nScene: At a friend's birthday party\\n\\nCharacters: Emily, Sarah, and Jake\\n\\n---\\n\\n[The scene opens with Emily and Sarah standing in the living room, surrounded by other party guests. Emily holds a beautifully wrapped gift in her hands.]\\n\\nEmily: [handing the gift to Sarah] Happy Birthday, Sarah! I hope you like this. I spent a lot of time picking it out for you.\\n\\nSarah: [unwrapping the gift with a big smile, her expression suddenly changes to confusion] Oh... um, thank you, Emily. It’s a... unique choice.\\n\\n[The gift is a book titled “The Complexities of Modern Art.”]\\n\\nEmily: [noticing Sarah’s confusion] Is something wrong? You do like it, don’t you?\\n\\nSarah: Oh, it’s definitely thoughtful, Emily. I just expected something else as I mentioned last week about really needing a new cookbook.\\n\\nJake: [chuckles and interjects] I think there might have been a mix-up, Emily. Sarah does love books, but she’s been on a cooking spree lately. Easy mistake!\\n\\n[Sarah looks at Jake, then back at Emily, trying to keep the atmosphere light.]\\n\\nSarah: Really, it’s okay! Modern art is fascinating too. Maybe it will inspire my cooking presentations!\\n\\nEmily: [relieved and smiling] That could be a fun twist, combining art styles with food. I would love to see what you come up with, Sarah!\\n\\nJake: [teasingly] Maybe we'll all end up trying cubist sandwiches or surrealist desserts at your next party!\\n\\n[Everyone laughs, the tension dissolves, and they continue enjoying the party.]\\n\\n---\\n\\nEmily, Sarah, and Jake demonstrate understanding and flexibility, turning an awkward situation into a lighthearted moment through clear communication and humor.\\n\\n\""
      ]
     },
     "execution_count": 27,
     "metadata": {},
     "output_type": "execute_result"
    }
   ],
   "source": [
    "story"
   ]
  },
  {
   "cell_type": "code",
   "execution_count": 28,
   "metadata": {},
   "outputs": [
    {
     "name": "stdout",
     "output_type": "stream",
     "text": [
      "Emily found the situation hard primarily due to a mix-up with the birthday gift she chose for Sarah. She felt confusion and discomfort initially when she noticed Sarah's unexpected reaction to the gift—a book on modern art instead of a desired cookbook. This misunderstanding likely amplified Emily's anxiety, making her unsure about whether her gift was appreciated. Emily might also have felt relieved and reassured when Sarah and Jake addressed the situation with humor and light-heartedness, helping to diffuse the tension and make the interaction more comfortable for her. The reassurance from her friends possibly helped Emily feel more integrated and accepted in the social setting, despite the mix-up.\n"
     ]
    }
   ],
   "source": [
    "conclusions = concluser.ask_assistant(story, name)\n",
    "print(conclusions)"
   ]
  },
  {
   "cell_type": "code",
   "execution_count": 9,
   "metadata": {},
   "outputs": [],
   "source": [
    "user_conclusions = \"\"\"\n",
    "In \"The Birthday Party Mix-Up,\" Emily experiences a mix of emotions and difficulties. At the start, she feels puzzled and perhaps a bit embarrassed when Clara teases her about her soccer team's loss. This situation highlights Emily's struggle to understand sarcasm, which might make her feel out of place or socially awkward. However, with Tom's explanation, Emily gradually realizes the nature of Clara's comment and manages to respond in a friendly and light-hearted manner. Despite initially feeling unsure, Emily shows resilience by adapting to the social interaction and eventually relaxing into the party atmosphere. Overall, the story portrays Emily navigating the complexities of social dynamics and learning to handle teasing with grace.\n",
    "\"\"\""
   ]
  },
  {
   "cell_type": "code",
   "execution_count": 29,
   "metadata": {},
   "outputs": [
    {
     "name": "stdout",
     "output_type": "stream",
     "text": [
      "You've described a situation where Emily feels puzzled and embarrassed due to a teasing comment about her soccer team's loss, which highlights her struggle with understanding sarcasm. This made her feel out of place or socially awkward. However, it seems there is a mix-up here as the description I have points out that Emily's primary difficulty was with a misunderstanding over the type of gift she gave at the party, not a comment about a soccer team. Additionally, the reassurance she received came from humor and light-hearted treatment of the gift mix-up rather than through someone explaining the nature of a sarcastic comment. \n",
      "\n",
      "It's important to differentiate these situations, as they involve different types of social challenges. Could you delve a bit more into why you feel the teasing about the soccer team was significant for Emily? Understanding this could help clarify how she processes different social cues and interactions.\n"
     ]
    }
   ],
   "source": [
    "comparison = compariser.ask_assistant(conclusions, user_conclusions)\n",
    "print(comparison)"
   ]
  },
  {
   "cell_type": "code",
   "execution_count": 30,
   "metadata": {},
   "outputs": [
    {
     "name": "stdout",
     "output_type": "stream",
     "text": [
      "Your description matches closely with the understanding of the situation. It is clear that Emily felt a mix of emotions due to the gift misunderstanding, which you captured well. Since your understanding aligns well, let's continue discussing any other aspects of this scenario or other challenges it might remind you of. This can help explore various social interactions and improve comfort  in similar settings. How do you typically feel in similar situations that involve misunderstandings?\n"
     ]
    }
   ],
   "source": [
    "comparison = compariser.ask_assistant(conclusions, conclusions)\n",
    "print(comparison)"
   ]
  }
 ],
 "metadata": {
  "kernelspec": {
   "display_name": ".venv",
   "language": "python",
   "name": "python3"
  },
  "language_info": {
   "codemirror_mode": {
    "name": "ipython",
    "version": 3
   },
   "file_extension": ".py",
   "mimetype": "text/x-python",
   "name": "python",
   "nbconvert_exporter": "python",
   "pygments_lexer": "ipython3",
   "version": "3.11.2"
  }
 },
 "nbformat": 4,
 "nbformat_minor": 2
}
